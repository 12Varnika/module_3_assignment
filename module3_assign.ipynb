{
 "cells": [
  {
   "cell_type": "code",
   "execution_count": null,
   "id": "afe55c70-3bed-414b-a9f1-6aab051b0609",
   "metadata": {},
   "outputs": [],
   "source": [
    "#QUES.1 Discuss String slicing with example.\n",
    "#ANS.  String is a sequence of characters, represent and manipulate textual data.Characters are \n",
    "     # represented using numerical values.\n",
    "      #String slicing allows us to extract a specific element which we want to extract.\n",
    "      #The syntax for slicing is-\n",
    "      #[start:end:stop]\n",
    "      #Example:"
   ]
  },
  {
   "cell_type": "code",
   "execution_count": 2,
   "id": "35ebc83e-02c8-4f3b-a198-8e6da4dd4fab",
   "metadata": {},
   "outputs": [
    {
     "data": {
      "text/plain": [
       "'tesla'"
      ]
     },
     "execution_count": 2,
     "metadata": {},
     "output_type": "execute_result"
    }
   ],
   "source": [
    "#example\n",
    "x=\"the syllabus is complete\"\n",
    "x[0:10:2]"
   ]
  },
  {
   "cell_type": "code",
   "execution_count": 3,
   "id": "eae3fdb8-7ef1-4fa1-a4ff-e177fd36bb43",
   "metadata": {},
   "outputs": [
    {
     "data": {
      "text/plain": [
       "'etelpmoc si suballys eht'"
      ]
     },
     "execution_count": 3,
     "metadata": {},
     "output_type": "execute_result"
    }
   ],
   "source": [
    "#example of negative slicing\n",
    "x=\"the syllabus is complete\"\n",
    "x[::-1]"
   ]
  },
  {
   "cell_type": "code",
   "execution_count": 8,
   "id": "84019765-a6b6-407d-98c2-c83907a7967b",
   "metadata": {},
   "outputs": [
    {
     "data": {
      "text/plain": [
       "'ria'"
      ]
     },
     "execution_count": 8,
     "metadata": {},
     "output_type": "execute_result"
    }
   ],
   "source": [
    "x=\"varnika\"\n",
    "x[2:7:2]"
   ]
  },
  {
   "cell_type": "code",
   "execution_count": null,
   "id": "9cf7a3c9-7fcb-44c5-958d-585f88a1c3e3",
   "metadata": {},
   "outputs": [],
   "source": [
    "#QUES.2 Discuss the key features of list in python.\n",
    "#ANS.  List is a mutable which means we can change or modify after its creation.\n",
    "      # We can perform many functions like \n",
    "      # append()\n",
    "       #pop()\n",
    "       #remove() \n",
    "       #delete()\n",
    "       #insert()\n",
    "       #slice()   "
   ]
  },
  {
   "cell_type": "code",
   "execution_count": 9,
   "id": "a9b88fb1-5999-4ab3-8f1d-4e298610e27e",
   "metadata": {},
   "outputs": [
    {
     "name": "stdout",
     "output_type": "stream",
     "text": [
      "[2, 4, 6, 80, 'zoo']\n"
     ]
    }
   ],
   "source": [
    "#example of append ()\n",
    "x=[2,4,6,80]\n",
    "x.append(\"zoo\")\n",
    "print(x)"
   ]
  },
  {
   "cell_type": "code",
   "execution_count": 16,
   "id": "e4095614-fcfa-40c4-a785-5ad21c2ba552",
   "metadata": {},
   "outputs": [
    {
     "name": "stdout",
     "output_type": "stream",
     "text": [
      "['my', 'dog', 'is', 'boy']\n"
     ]
    }
   ],
   "source": [
    "#example of pop()\n",
    "x=[\"my\", \"dog\", \"is\", \"a\", \"boy\"]\n",
    "x.pop(3)\n",
    "print(x)"
   ]
  },
  {
   "cell_type": "code",
   "execution_count": 19,
   "id": "b6146e09-41ca-4cb6-a0cd-f9816005b860",
   "metadata": {},
   "outputs": [
    {
     "name": "stdout",
     "output_type": "stream",
     "text": [
      "['apple', 'kiwi']\n"
     ]
    }
   ],
   "source": [
    "#example of remove()\n",
    "fruits=[\"apple\", \"car\", \"kiwi\"]\n",
    "fruits.remove(\"car\")\n",
    "print(fruits)"
   ]
  },
  {
   "cell_type": "code",
   "execution_count": 23,
   "id": "b0d05e89-731e-465d-9455-8f7809621843",
   "metadata": {},
   "outputs": [
    {
     "name": "stdout",
     "output_type": "stream",
     "text": [
      "[80.89, 99, 23, 43, 'all good']\n"
     ]
    }
   ],
   "source": [
    "#example of insert()\n",
    "x=[80.89,99,23,43,]\n",
    "x.insert (4,\"all good\")\n",
    "print(x)"
   ]
  },
  {
   "cell_type": "code",
   "execution_count": null,
   "id": "3374bc43-357a-4204-882f-ef1b936ba3a1",
   "metadata": {},
   "outputs": [],
   "source": [
    "#QUES.3 Discuss how to access, modify, delete the element in list with example.\n",
    "#ANS-   List provides various function which is already written in above ques.\n",
    "       # To access the element , the element should be in square bracket.\n",
    "       # Yes we can access , modify , delete the elements -\n"
   ]
  },
  {
   "cell_type": "code",
   "execution_count": 24,
   "id": "307344c2-b957-4837-9668-1322ced92dff",
   "metadata": {},
   "outputs": [
    {
     "name": "stdout",
     "output_type": "stream",
     "text": [
      "[20, 40, 30, 50, 60]\n"
     ]
    }
   ],
   "source": [
    "#example to access the element\n",
    "a=[20,40,30,50,60]\n",
    "print(a)"
   ]
  },
  {
   "cell_type": "code",
   "execution_count": 34,
   "id": "fa9785c5-3feb-4d29-ad1d-2d2ca32e3eea",
   "metadata": {},
   "outputs": [
    {
     "name": "stdout",
     "output_type": "stream",
     "text": [
      "2\n"
     ]
    }
   ],
   "source": [
    "#example to access \n",
    "a=[\"30\", \"50\", \"89\"]\n",
    "print(a.index(\"89\"))"
   ]
  },
  {
   "cell_type": "code",
   "execution_count": 35,
   "id": "5aca26aa-9f49-4fda-9d72-b475516e605a",
   "metadata": {},
   "outputs": [
    {
     "name": "stdout",
     "output_type": "stream",
     "text": [
      "['mca', 'bca', 'bba']\n"
     ]
    }
   ],
   "source": [
    "#example to modify the elmenets\n",
    "course=[\"mca\", \"bca\", \"bba\"]\n",
    "print(course)"
   ]
  },
  {
   "cell_type": "code",
   "execution_count": 36,
   "id": "5aacbb7f-2324-4c05-989a-156f8957645f",
   "metadata": {},
   "outputs": [
    {
     "name": "stdout",
     "output_type": "stream",
     "text": [
      "['mca', 'bca', 'btech']\n"
     ]
    }
   ],
   "source": [
    "course=[\"mca\", \"bca\", \"bba\"]\n",
    "course[2]=\"btech\"\n",
    "print(course)"
   ]
  },
  {
   "cell_type": "code",
   "execution_count": 27,
   "id": "74ebb57e-693f-47e0-b72b-eadbcbf626ad",
   "metadata": {},
   "outputs": [
    {
     "name": "stdout",
     "output_type": "stream",
     "text": [
      "[]\n"
     ]
    }
   ],
   "source": [
    "#example to delete elmenets\n",
    "course=[\"mca\", \"bca\", \"bba\"]\n",
    "course.clear()\n",
    "print(course)"
   ]
  },
  {
   "cell_type": "code",
   "execution_count": null,
   "id": "6079355d-d77a-4048-91db-2e70be02c14c",
   "metadata": {},
   "outputs": [],
   "source": [
    "#QUES.4 Compare and contrast tuple ans list with example.\n",
    "#ANS.   Tuple and List both are data structure which perform different functions.\n",
    "        #Tuples are immutable which means onces the tuple is created it cannot change .\n",
    "        #Tuples are represented by ()\n",
    "        #whereas List is mutable which means onces the list is created we can change, modify, update\n",
    "        #also we can perform functions like \n",
    "        #append()\n",
    "        #index()\n",
    "        #count()\n",
    "        #clear()"
   ]
  },
  {
   "cell_type": "code",
   "execution_count": 1,
   "id": "d163c969-06e6-4833-965b-6306a848e962",
   "metadata": {},
   "outputs": [
    {
     "name": "stdout",
     "output_type": "stream",
     "text": [
      "(40.44, 87, 65, 89)\n"
     ]
    }
   ],
   "source": [
    "#example of tuple\n",
    "a=(40.44, 87,65,89)\n",
    "print(a)"
   ]
  },
  {
   "cell_type": "code",
   "execution_count": 2,
   "id": "7e06f873-7f5c-4d9b-9990-d6e8dedbbca0",
   "metadata": {},
   "outputs": [
    {
     "ename": "AttributeError",
     "evalue": "'tuple' object has no attribute 'append'",
     "output_type": "error",
     "traceback": [
      "\u001b[0;31m---------------------------------------------------------------------------\u001b[0m",
      "\u001b[0;31mAttributeError\u001b[0m                            Traceback (most recent call last)",
      "Cell \u001b[0;32mIn[2], line 2\u001b[0m\n\u001b[1;32m      1\u001b[0m a\u001b[38;5;241m=\u001b[39m(\u001b[38;5;241m40.44\u001b[39m, \u001b[38;5;241m87\u001b[39m,\u001b[38;5;241m65\u001b[39m,\u001b[38;5;241m89\u001b[39m)\n\u001b[0;32m----> 2\u001b[0m \u001b[43ma\u001b[49m\u001b[38;5;241;43m.\u001b[39;49m\u001b[43mappend\u001b[49m(\u001b[38;5;241m90\u001b[39m)\n\u001b[1;32m      3\u001b[0m \u001b[38;5;28mprint\u001b[39m(a)\n",
      "\u001b[0;31mAttributeError\u001b[0m: 'tuple' object has no attribute 'append'"
     ]
    }
   ],
   "source": [
    "a=(40.44, 87,65,89)\n",
    "a.append(90)\n",
    "print(a)"
   ]
  },
  {
   "cell_type": "code",
   "execution_count": null,
   "id": "22e77144-d715-465b-8b27-3a1f69581d34",
   "metadata": {},
   "outputs": [],
   "source": [
    "#the above shows that tuple cannot be change onces it is created."
   ]
  },
  {
   "cell_type": "code",
   "execution_count": 6,
   "id": "a8b708c2-61b4-4dca-a261-bacefddcb46a",
   "metadata": {},
   "outputs": [
    {
     "name": "stdout",
     "output_type": "stream",
     "text": [
      "0\n"
     ]
    }
   ],
   "source": [
    "#example of list\n",
    "a=[\"23\",\"45\",\"65\",\"76\"]\n",
    "print(a.index(\"23\"))"
   ]
  },
  {
   "cell_type": "code",
   "execution_count": null,
   "id": "d5f0dc5d-7358-4e83-a22c-c8556f4ac138",
   "metadata": {},
   "outputs": [],
   "source": [
    "#the above example shows how the list created and we can make changes in a list by performing functions."
   ]
  },
  {
   "cell_type": "code",
   "execution_count": null,
   "id": "7031d24f-4aa7-4aa1-be49-df038e4491c8",
   "metadata": {},
   "outputs": [],
   "source": [
    "#QUES.5 Describe the features of sets with example.\n",
    "#ANS.   Sets are unauthorized collection of unique elements.\n",
    "        #Sets are represented by {} brackets.\n",
    "        #Duplication not allowed."
   ]
  },
  {
   "cell_type": "code",
   "execution_count": 8,
   "id": "7eae01d5-a0fb-4eb2-8f8c-dd69a563c0e6",
   "metadata": {},
   "outputs": [
    {
     "name": "stdout",
     "output_type": "stream",
     "text": [
      "{'sc', 'gen', 'st'}\n"
     ]
    }
   ],
   "source": [
    "#example-\n",
    "my_class={\"st\",\"st\", \"gen\", \"sc\",\"st\"}\n",
    "print(my_class)"
   ]
  },
  {
   "cell_type": "code",
   "execution_count": null,
   "id": "a3c894a7-03cf-41cb-9fec-9b09e0a99484",
   "metadata": {},
   "outputs": [],
   "source": [
    "#the above example shows if you write the elements in multiple times so it will not \n",
    "#print result as same as instead of it it will print a unique values.\n",
    "#In sets we can add, remove, pop like we do in list, but in sets it will done randomly.\n"
   ]
  },
  {
   "cell_type": "code",
   "execution_count": 11,
   "id": "badbaa6a-2fb8-48ae-bce2-9b250dd8d04c",
   "metadata": {},
   "outputs": [
    {
     "name": "stdout",
     "output_type": "stream",
     "text": [
      "{'54', 2, 3, 67, 4, 5}\n"
     ]
    }
   ],
   "source": [
    "#example-\n",
    "z={2,3,4,5,67}\n",
    "z.add(\"54\")\n",
    "print(z)"
   ]
  },
  {
   "cell_type": "code",
   "execution_count": null,
   "id": "28f2437b-f415-4e7f-9196-1742475041ac",
   "metadata": {},
   "outputs": [],
   "source": [
    "#in above example it add the element in random  place. "
   ]
  },
  {
   "cell_type": "code",
   "execution_count": 12,
   "id": "66918799-cf45-41d8-a4f6-fad88d584018",
   "metadata": {},
   "outputs": [
    {
     "name": "stdout",
     "output_type": "stream",
     "text": [
      "{3, 67, 4, 5}\n"
     ]
    }
   ],
   "source": [
    "z={2,3,4,5,67}\n",
    "z.pop()\n",
    "print(z)"
   ]
  },
  {
   "cell_type": "code",
   "execution_count": null,
   "id": "8f590089-2344-42b2-9ac5-b4b70d56757b",
   "metadata": {},
   "outputs": [],
   "source": [
    "#it pop any element."
   ]
  },
  {
   "cell_type": "code",
   "execution_count": null,
   "id": "6514623e-d211-46e2-b3d2-608d50704d67",
   "metadata": {},
   "outputs": [],
   "source": [
    "#QUES.6 Discuss the use case of tuple ans sets in python.\n",
    "#ANS.   Use case of tuples -\n",
    "#Immutable data: Use tuples when you need to store immutable data, ensuring that the data cannot be modified.\n",
    "\n",
    "#Memory efficiency: Tuples are more memory-efficient than lists for small, immutable collections\n",
    "\n",
    "#Dictionary keys: Tuples can be used as dictionary keys, whereas lists cannot.\n",
    "\n",
    "#Function arguments: Tuples are often used as function arguments when you need to pass multiple values.\n"
   ]
  },
  {
   "cell_type": "code",
   "execution_count": 14,
   "id": "ba7734ed-3f7a-4c4a-8b8b-fed117dad62f",
   "metadata": {},
   "outputs": [
    {
     "name": "stdout",
     "output_type": "stream",
     "text": [
      "(20, 30, 40, 50)\n"
     ]
    }
   ],
   "source": [
    "#example of tuple\n",
    "x=(20,30,40,50)\n",
    "print(x)"
   ]
  },
  {
   "cell_type": "code",
   "execution_count": 7,
   "id": "5ba9e0d6-a9fb-43b7-94cd-a2f0d2340318",
   "metadata": {},
   "outputs": [
    {
     "ename": "AttributeError",
     "evalue": "'tuple' object has no attribute 'remove'",
     "output_type": "error",
     "traceback": [
      "\u001b[0;31m---------------------------------------------------------------------------\u001b[0m",
      "\u001b[0;31mAttributeError\u001b[0m                            Traceback (most recent call last)",
      "Cell \u001b[0;32mIn[7], line 2\u001b[0m\n\u001b[1;32m      1\u001b[0m x\u001b[38;5;241m=\u001b[39m(\u001b[38;5;241m20\u001b[39m,\u001b[38;5;241m30\u001b[39m,\u001b[38;5;241m40\u001b[39m,\u001b[38;5;241m50\u001b[39m)\n\u001b[0;32m----> 2\u001b[0m \u001b[43mx\u001b[49m\u001b[38;5;241;43m.\u001b[39;49m\u001b[43mremove\u001b[49m(\u001b[38;5;241m30\u001b[39m)\n\u001b[1;32m      3\u001b[0m \u001b[38;5;28mprint\u001b[39m(x)\n",
      "\u001b[0;31mAttributeError\u001b[0m: 'tuple' object has no attribute 'remove'"
     ]
    }
   ],
   "source": [
    "x=(20,30,40,50)\n",
    "x.remove(30)\n",
    "print(x)"
   ]
  },
  {
   "cell_type": "code",
   "execution_count": null,
   "id": "1015308f-1f87-4d67-9329-876b26131ee1",
   "metadata": {},
   "outputs": [],
   "source": [
    "#the above example shows we can access tuple but we cannnot  make  any changes \n",
    "# onces it is created."
   ]
  },
  {
   "cell_type": "code",
   "execution_count": null,
   "id": "c115920c-73f7-4263-ae74-3818534a3331",
   "metadata": {},
   "outputs": [],
   "source": [
    "#Use case of sets\n",
    "# sets are mutauble we can change after its creation.\n",
    "#It gives a unique values.\n",
    "#It do not allows any duplication.\n",
    "#It randamoly allocate the elemenst after performing functions like add, pop, remove.\n"
   ]
  },
  {
   "cell_type": "code",
   "execution_count": 16,
   "id": "293ed2fd-db79-4822-8e6c-c02ab5e2d375",
   "metadata": {},
   "outputs": [
    {
     "name": "stdout",
     "output_type": "stream",
     "text": [
      "{2, 3, 67, 4, 5, 56}\n"
     ]
    }
   ],
   "source": [
    "#example-\n",
    "my_class={2,2,3,5,67,4,56,5}\n",
    "print(my_class)"
   ]
  },
  {
   "cell_type": "code",
   "execution_count": null,
   "id": "e846f68f-4e31-4f81-ae02-074daf3a7e63",
   "metadata": {},
   "outputs": [],
   "source": [
    "#above example shows the unique elements."
   ]
  },
  {
   "cell_type": "code",
   "execution_count": 17,
   "id": "94017f06-3e03-46ab-ae89-30d3362c5b43",
   "metadata": {},
   "outputs": [
    {
     "name": "stdout",
     "output_type": "stream",
     "text": [
      "{2, 3, 67, 4, 5, 56}\n",
      "{2, 3, 67, 4, 5, 56}\n",
      "{2, 3, 67, 4, 5, 56}\n",
      "{2, 3, 67, 4, 5, 56}\n",
      "{2, 3, 67, 4, 5, 56}\n",
      "{2, 3, 67, 4, 5, 56}\n"
     ]
    }
   ],
   "source": [
    "my_class={2,2,3,5,67,4,56,5}\n",
    "for i in my_class:\n",
    "    print(my_class)"
   ]
  },
  {
   "cell_type": "code",
   "execution_count": null,
   "id": "0aeb38d2-5361-45c0-bdf9-2fe46a33bd37",
   "metadata": {},
   "outputs": [],
   "source": [
    "#QUES.7 Discuss add,modify, delete in dictionary with example.\n",
    "#ANS.   Dictionary is a type of data structure which is mutuable in nature, but keys \n",
    "        #are immutable in nature.\n",
    "        #Only string and numbers can be used as a key of dict.\n",
    "        #It is represented by {}brackets and separate each key-value pair with a comma."
   ]
  },
  {
   "cell_type": "code",
   "execution_count": 19,
   "id": "d238c344-f99c-4a77-8d9e-a9afa06875e7",
   "metadata": {},
   "outputs": [
    {
     "name": "stdout",
     "output_type": "stream",
     "text": [
      "{'brand': 'Ford', 'gender': 'male', 'year': 2024, 'color': 'red'}\n"
     ]
    }
   ],
   "source": [
    "#example to add element-\n",
    "z=\t{\n",
    "  \"brand\": \"Ford\",\n",
    "  \"gender\": \"male\",\n",
    "  \"year\": 2024\n",
    "}\n",
    "z[\"color\"] = \"red\"\n",
    "print(z)"
   ]
  },
  {
   "cell_type": "code",
   "execution_count": null,
   "id": "0739cf7f-4cec-4ac2-a30b-fbb19eb14634",
   "metadata": {},
   "outputs": [],
   "source": [
    "#above example shows how to add element in code."
   ]
  },
  {
   "cell_type": "code",
   "execution_count": 20,
   "id": "bbdce34f-19e0-49b3-8206-c1a42391fb91",
   "metadata": {},
   "outputs": [
    {
     "name": "stdout",
     "output_type": "stream",
     "text": [
      "{1: 'house', 2: 'phone', 3: 'school'}\n"
     ]
    }
   ],
   "source": [
    "#example of modify element-\n",
    "z={1:\"house\", 2:\"phone\", 3:\"school\"}\n",
    "print(z)"
   ]
  },
  {
   "cell_type": "code",
   "execution_count": 23,
   "id": "82bed724-721c-4aec-a517-90367e4bd552",
   "metadata": {},
   "outputs": [
    {
     "name": "stdout",
     "output_type": "stream",
     "text": [
      "{1: 'house', 3: 'school'}\n"
     ]
    }
   ],
   "source": [
    "z={1:\"house\", 20:\"phone\", 3:\"school\"}\n",
    "z.pop(20)\n",
    "print(z)"
   ]
  },
  {
   "cell_type": "code",
   "execution_count": 26,
   "id": "dd607dec-fcdb-4d87-b947-a81aa7b666cd",
   "metadata": {},
   "outputs": [
    {
     "name": "stdout",
     "output_type": "stream",
     "text": [
      "{}\n"
     ]
    }
   ],
   "source": [
    "#example of delete element-\n",
    "z={1:\"house\", 2:\"phone\", 3:\"school\"}\n",
    "z.clear()\n",
    "print(z)"
   ]
  },
  {
   "cell_type": "code",
   "execution_count": null,
   "id": "4d2aa799-4e37-4a7b-8aa3-65f3443b13fc",
   "metadata": {},
   "outputs": [],
   "source": [
    "#the above example shows how the whole dictionary gets deleted by clear()."
   ]
  },
  {
   "cell_type": "code",
   "execution_count": null,
   "id": "abf8dbc5-9716-4af4-bd7c-91625ff802cb",
   "metadata": {},
   "outputs": [],
   "source": [
    "#QUES.8 Discuss dictionary keys are being immutable with example.\n",
    "#ANS.   Python dictionaries allow us to associate a value to a unique key, and then to quickly \n",
    "        #access this value.\n",
    "        #Keys are immutable because it uses the hash value calculated from the key value to \n",
    "        #find the key. If the key were a mutable object, its value could change, and thus \n",
    "        #its hash could also change."
   ]
  },
  {
   "cell_type": "code",
   "execution_count": 1,
   "id": "3297543e-4e28-4394-bf79-752b8d926218",
   "metadata": {},
   "outputs": [
    {
     "name": "stdout",
     "output_type": "stream",
     "text": [
      "{20: 'house 1', 30: 'house 2', 40: 'house 3'}\n"
     ]
    }
   ],
   "source": [
    "#example to access the dictionary\n",
    "z={20:\"house 1\", 30:\"house 2\", 40:\"house 3\"}\n",
    "print(z)"
   ]
  },
  {
   "cell_type": "code",
   "execution_count": 4,
   "id": "b9dc3305-ed78-4abc-8436-21d935c20be0",
   "metadata": {},
   "outputs": [
    {
     "name": "stdout",
     "output_type": "stream",
     "text": [
      "dict_keys([20, 30, 40])\n"
     ]
    }
   ],
   "source": [
    "#example to access the keys\n",
    "z={20:\"house 1\", 30:\"house 2\", 40:\"house 3\"}\n",
    "y=z.keys()\n",
    "print(y)"
   ]
  },
  {
   "cell_type": "code",
   "execution_count": 5,
   "id": "70adaaef-7a7a-4a1a-90e3-a8808e4ea755",
   "metadata": {},
   "outputs": [
    {
     "ename": "AttributeError",
     "evalue": "'dict_keys' object has no attribute 'append'",
     "output_type": "error",
     "traceback": [
      "\u001b[0;31m---------------------------------------------------------------------------\u001b[0m",
      "\u001b[0;31mAttributeError\u001b[0m                            Traceback (most recent call last)",
      "Cell \u001b[0;32mIn[5], line 3\u001b[0m\n\u001b[1;32m      1\u001b[0m z\u001b[38;5;241m=\u001b[39m{\u001b[38;5;241m20\u001b[39m:\u001b[38;5;124m\"\u001b[39m\u001b[38;5;124mhouse 1\u001b[39m\u001b[38;5;124m\"\u001b[39m, \u001b[38;5;241m30\u001b[39m:\u001b[38;5;124m\"\u001b[39m\u001b[38;5;124mhouse 2\u001b[39m\u001b[38;5;124m\"\u001b[39m, \u001b[38;5;241m40\u001b[39m:\u001b[38;5;124m\"\u001b[39m\u001b[38;5;124mhouse 3\u001b[39m\u001b[38;5;124m\"\u001b[39m}\n\u001b[1;32m      2\u001b[0m y\u001b[38;5;241m=\u001b[39mz\u001b[38;5;241m.\u001b[39mkeys()\n\u001b[0;32m----> 3\u001b[0m \u001b[43my\u001b[49m\u001b[38;5;241;43m.\u001b[39;49m\u001b[43mappend\u001b[49m(\u001b[38;5;124m\"\u001b[39m\u001b[38;5;124m50\u001b[39m\u001b[38;5;124m\"\u001b[39m)\n\u001b[1;32m      4\u001b[0m \u001b[38;5;28mprint\u001b[39m(y)\n",
      "\u001b[0;31mAttributeError\u001b[0m: 'dict_keys' object has no attribute 'append'"
     ]
    }
   ],
   "source": [
    "#example keys are immutable\n",
    "z={20:\"house 1\", 30:\"house 2\", 40:\"house 3\"}\n",
    "y=z.keys()\n",
    "y.append(\"50\")\n",
    "print(y)"
   ]
  },
  {
   "cell_type": "code",
   "execution_count": 9,
   "id": "d6905761-906a-442f-bdea-ad836150f58f",
   "metadata": {},
   "outputs": [],
   "source": [
    "#in above example it signifies that dictionary can be modify, but keys cannot because it is immutable."
   ]
  },
  {
   "cell_type": "code",
   "execution_count": 12,
   "id": "911718ff-b269-4dce-8bf2-55c6ffe54f92",
   "metadata": {},
   "outputs": [
    {
     "ename": "SyntaxError",
     "evalue": "invalid syntax (3334714658.py, line 1)",
     "output_type": "error",
     "traceback": [
      "\u001b[0;36m  Cell \u001b[0;32mIn[12], line 1\u001b[0;36m\u001b[0m\n\u001b[0;31m    def greeting(\"vini\"):\u001b[0m\n\u001b[0m                 ^\u001b[0m\n\u001b[0;31mSyntaxError\u001b[0m\u001b[0;31m:\u001b[0m invalid syntax\n"
     ]
    }
   ],
   "source": [
    "def greeting(\"vini\"):\n",
    "    print(\"baby\",\"vini\")"
   ]
  },
  {
   "cell_type": "code",
   "execution_count": null,
   "id": "42e0f490-f1df-40c6-a48e-0910cd3636fb",
   "metadata": {},
   "outputs": [],
   "source": []
  },
  {
   "cell_type": "code",
   "execution_count": null,
   "id": "fc849b7c-a7d3-4a94-b31a-07c593f70d7c",
   "metadata": {},
   "outputs": [],
   "source": []
  }
 ],
 "metadata": {
  "kernelspec": {
   "display_name": "Python 3 (ipykernel)",
   "language": "python",
   "name": "python3"
  },
  "language_info": {
   "codemirror_mode": {
    "name": "ipython",
    "version": 3
   },
   "file_extension": ".py",
   "mimetype": "text/x-python",
   "name": "python",
   "nbconvert_exporter": "python",
   "pygments_lexer": "ipython3",
   "version": "3.10.8"
  }
 },
 "nbformat": 4,
 "nbformat_minor": 5
}
